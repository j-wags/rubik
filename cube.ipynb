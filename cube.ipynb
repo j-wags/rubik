{
 "cells": [
  {
   "cell_type": "code",
   "execution_count": 164,
   "metadata": {
    "collapsed": false
   },
   "outputs": [],
   "source": [
    "%matplotlib inline\n",
    "from matplotlib.colors import ListedColormap,BoundaryNorm\n",
    "from mpl_toolkits.mplot3d import Axes3D\n",
    "import numpy as np\n",
    "import matplotlib.pyplot as plt\n",
    "class Face:\n",
    "    RED = 0#'RED'\n",
    "    BLUE = 1#'BLUE'\n",
    "    WHITE = 2#'WHITE'\n",
    "    ORANGE = 3#'ORANGE'\n",
    "    GREEN = 4#'GREEN'\n",
    "    YELLOW = 5#'YELLOW'\n",
    "class Piece:\n",
    "    mod = 1\n",
    "    def __init__(self, faces):\n",
    "        self.f = faces\n",
    "        self.o = 0\n",
    "    def add_orient(self, num):\n",
    "        self.o = (self.o + num) % self.mod\n",
    "    def ori(self):\n",
    "        return self.o\n",
    "    def faces(self):\n",
    "        return self.f\n",
    "class Corner(Piece):\n",
    "    mod = 3\n",
    "class Edge(Piece):\n",
    "    mod = 2\n",
    "class Middle(Piece):\n",
    "    mod = 1\n",
    "    \n",
    "position = []\n",
    "def reset_cube():\n",
    "    position = [Piece([])]\n",
    "    position.append(Corner([Face.RED, Face.BLUE, Face.YELLOW]))\n",
    "    position.append(Edge([Face.RED, Face.BLUE]))\n",
    "    position.append(Corner([Face.RED, Face.WHITE, Face.BLUE]))\n",
    "    position.append(Edge([Face.RED, Face.YELLOW]))\n",
    "    position.append(Middle([Face.RED]))\n",
    "    position.append(Edge([Face.RED, Face.WHITE]))\n",
    "    position.append(Corner([Face.RED, Face.YELLOW, Face.GREEN]))\n",
    "    position.append(Edge([Face.RED, Face.GREEN]))\n",
    "    position.append(Corner([Face.RED, Face.GREEN, Face.WHITE]))\n",
    "    position.append(Edge([Face.BLUE, Face.YELLOW]))\n",
    "    position.append(Middle([Face.BLUE]))\n",
    "    position.append(Edge([Face.BLUE, Face.WHITE]))\n",
    "    position.append(Middle([Face.YELLOW]))\n",
    "    position.append(Piece([]))\n",
    "    position.append(Middle([Face.WHITE]))\n",
    "    position.append(Edge([Face.GREEN, Face.YELLOW]))\n",
    "    position.append(Middle([Face.GREEN]))\n",
    "    position.append(Edge([Face.GREEN, Face.WHITE]))\n",
    "    position.append(Corner([Face.ORANGE, Face.YELLOW, Face.BLUE]))\n",
    "    position.append(Edge([Face.ORANGE, Face.BLUE]))\n",
    "    position.append(Corner([Face.ORANGE, Face.BLUE, Face.WHITE]))\n",
    "    position.append(Edge([Face.ORANGE, Face.YELLOW]))\n",
    "    position.append(Middle([Face.ORANGE]))\n",
    "    position.append(Edge([Face.ORANGE, Face.WHITE]))\n",
    "    position.append(Corner([Face.ORANGE, Face.GREEN, Face.YELLOW]))\n",
    "    position.append(Edge([Face.ORANGE, Face.GREEN]))\n",
    "    position.append(Corner([Face.ORANGE, Face.WHITE, Face.GREEN]))\n",
    "    return position\n",
    "position = reset_cube()"
   ]
  },
  {
   "cell_type": "code",
   "execution_count": 165,
   "metadata": {
    "collapsed": false
   },
   "outputs": [],
   "source": [
    "class Side:\n",
    "    pieces = []\n",
    "    side = []\n",
    "    cmap = ListedColormap(['red', 'blue', 'white', 'orange', 'green', 'yellow'])\n",
    "    norm = BoundaryNorm([0,1,2,3,4,5,6], cmap.N)\n",
    "    fig_num = 0\n",
    "    @classmethod\n",
    "    def view_side(self):\n",
    "        output = []\n",
    "        for i in range(len(self.pieces)):\n",
    "            x = position[self.pieces[i]]\n",
    "            output.append(x.faces()[(x.ori() + self.side[i]) % x.mod])\n",
    "        return output\n",
    "    @classmethod\n",
    "    def viz(self):\n",
    "        Side.fig_num+=1\n",
    "        fig = plt.figure(Side.fig_num)\n",
    "        plt.title(self.__name__)\n",
    "        plt.xticks([-0.5,0.5,1.5,2.5], ['','','','']);\n",
    "        plt.yticks([-0.5,0.5,1.5,2.5], ['','','','']);\n",
    "        plt.imshow(np.reshape(self.view_side(), (3,3)),origin='upper',interpolation='nearest',cmap=cmap, norm=norm)\n",
    "        plt.grid(which='major',color='black', linestyle='-', linewidth=2)\n",
    "class TopSide(Side):\n",
    "    pieces = [7,8,9,4,5,6,1,2,3]\n",
    "    side = [0,0,0,0,0,0,0,0,0]\n",
    "class BottomSide(Side):\n",
    "    pieces = [19,20,21,22,23,24,25,26,27]\n",
    "    side = [0,0,0,0,0,0,0,0,0]\n",
    "class FrontSide(Side):\n",
    "    pieces = [1,2,3,10,11,12,19,20,21]\n",
    "    side = [1,1,2,0,0,0,2,1,1]\n",
    "class BackSide(Side):\n",
    "    pieces = [9,8,7,18,17,16,27,26,25]\n",
    "    side = [1,1,2,0,0,0,2,1,1]\n",
    "class LeftSide(Side):\n",
    "    pieces = [7,4,1,16,13,10,25,22,19]\n",
    "    side = [1,1,2,1,0,1,2,1,1]\n",
    "class RightSide(Side):\n",
    "    pieces = [3,6,9,12,15,18,21,24,27]\n",
    "    side = [1,1,2,1,0,1,2,1,1]\n",
    "\n",
    "def view_cube():\n",
    "    TopSide.viz()\n",
    "    FrontSide.viz()\n",
    "    RightSide.viz()\n",
    "    BackSide.viz()\n",
    "    LeftSide.viz()\n",
    "    BottomSide.viz()\n",
    "def validate():\n",
    "    a = TopSide.view_side()\n",
    "    b = FrontSide.view_side()\n",
    "    c = RightSide.view_side()\n",
    "    d = BackSide.view_side()\n",
    "    e = LeftSide.view_side()\n",
    "    f = BottomSide.view_side()\n",
    "    return a.count(a[0]) == len(a) and b.count(b[0]) == len(b) and c.count(c[0]) == len(c) \\\n",
    "            and d.count(d[0]) == len(d) and e.count(e[0]) == len(e) and f.count(f[0]) == len(f)"
   ]
  },
  {
   "cell_type": "code",
   "execution_count": 166,
   "metadata": {
    "collapsed": false
   },
   "outputs": [],
   "source": [
    "class Move:\n",
    "    pos_list = [0,0,0,0,0,0,0,0]\n",
    "    orient_adjust = [0,0,0,0,0,0,0,0]\n",
    "    @classmethod\n",
    "    def exec(self, num=1):\n",
    "        for i in range(num%4):\n",
    "            self.reorient()\n",
    "            self.swap()\n",
    "    @classmethod\n",
    "    def reorient(self):\n",
    "        for i in range(len(self.pos_list)):\n",
    "            position[self.pos_list[i]].add_orient(self.orient_adjust[i])\n",
    "    @classmethod\n",
    "    def swap(self):\n",
    "        a6 = position[self.pos_list[6]]\n",
    "        a7 = position[self.pos_list[7]]\n",
    "        for i in range(len(self.pos_list)-2):\n",
    "            position[self.pos_list[7-i]] = position[self.pos_list[5-i]]\n",
    "        position[self.pos_list[0]] = a6\n",
    "        position[self.pos_list[1]] = a7\n",
    "class LU_Move(Move):\n",
    "    pos_list = [1,4,7,16,25,22,19,10]\n",
    "    orient_adjust = [1,0,-1,0,1,0,-1,0]\n",
    "class MU_Move(Move):\n",
    "    pos_list = [2,5,8,17,26,23,20,11]\n",
    "    orient_adjust = [1,0,1,0,1,0,1,0]\n",
    "class RU_Move(Move):\n",
    "    pos_list = [3,6,9,18,27,24,21,12]\n",
    "    orient_adjust = [-1,0,1,0,-1,0,1,0]\n",
    "class TL_Move(Move):\n",
    "    pos_list = [1,4,7,8,9,6,3,2]\n",
    "    orient_adjust = [0,0,0,0,0,0,0,0]\n",
    "class ML_Move(Move):\n",
    "    pos_list = [10,13,16,17,18,15,12,11]\n",
    "    orient_adjust = [1,0,1,0,1,0,1,0]\n",
    "class BL_Move(Move):\n",
    "    pos_list = [19,22,25,26,27,24,21,20]\n",
    "    orient_adjust = [0,0,0,0,0,0,0,0]\n",
    "class RLU_Move(Move):\n",
    "    pos_list = [1,10,19,20,21,12,3,2]\n",
    "    orient_adjust = [-1,1,1,1,-1,1,1,1]\n",
    "class RMU_Move(Move):\n",
    "    pos_list = [4,13,22,23,24,15,6,5]\n",
    "    orient_adjust = [1,0,1,0,1,0,1,0]\n",
    "class RRU_Move(Move):\n",
    "    pos_list = [7,16,25,26,27,18,9,8]\n",
    "    orient_adjust = [1,1,-1,1,1,1,-1,1]\n",
    "def RotateDown(num=1):\n",
    "    for i in range(num%4):\n",
    "        LU_Move.exec();MU_Move.exec();RU_Move.exec()\n",
    "def RotateRight(num=1):\n",
    "    for i in range(num%4):\n",
    "        TL_Move.exec();ML_Move.exec();BL_Move.exec()\n",
    "def RotateCC(num=1): #counter-clockwise\n",
    "    for i in range(num%4):\n",
    "        RLU_Move.exec();RMU_Move.exec();RRU_Move.exec()\n",
    "\n",
    "def mixup(n=100):\n",
    "    moves = [LU_Move,MU_Move,RU_Move,TL_Move,ML_Move,BL_Move,RLU_Move,RMU_Move,RRU_Move]\n",
    "    for i in range(n):\n",
    "        moves[np.random.randint(9)].exec()"
   ]
  },
  {
   "cell_type": "code",
   "execution_count": 167,
   "metadata": {
    "collapsed": false,
    "scrolled": true
   },
   "outputs": [],
   "source": [
    "def find_piece(faces):\n",
    "    for i in range(len(position)):\n",
    "        if set(position[i].faces()) == set(faces):\n",
    "            return i\n",
    "def solve():\n",
    "    while (not validate()):\n",
    "#         print(\"Checking...\")\n",
    "        for i in range(4):\n",
    "            RotateRight()\n",
    "            solve_topcross()\n",
    "        for i in range(4):\n",
    "            RotateRight()\n",
    "            solve_topcorners() \n",
    "        for i in range(4):\n",
    "            RotateRight()\n",
    "            solve_middle()\n",
    "        solve_bottomcornerswap()\n",
    "        solve_bottomcornerorient()\n",
    "        solve_bottomcross()\n",
    "        RotateDown()\n",
    "    print(\"Solved!\")\n",
    "    return 'Solved!'\n",
    "def solve_topcross():\n",
    "    topface = TopSide.view_side()\n",
    "    frontface = FrontSide.view_side()\n",
    "    topcolor = topface[4]\n",
    "    frontcolor = frontface[4]\n",
    "    if (topface[7] != topcolor or frontface[1] != frontcolor):\n",
    "        piece_index = find_piece([topcolor,frontcolor]) \n",
    "        if piece_index in [2,6,8,4]:\n",
    "            on_top = [2,6,8,4].index(piece_index)\n",
    "            RotateRight(on_top)\n",
    "            run_topcross_algorithm(False)\n",
    "            RotateRight(4-on_top)\n",
    "        piece_index = find_piece([topcolor,frontcolor]) \n",
    "        if piece_index in [12,10,16,18]:\n",
    "            in_middle = [12,10,16,18].index(piece_index)\n",
    "            RotateRight(4-in_middle)\n",
    "            run_middle_algorithm(False)\n",
    "            RotateRight(in_middle)\n",
    "        piece_index = find_piece([topcolor,frontcolor]) \n",
    "        alt = (position[piece_index].faces()[position[piece_index].ori()] == frontcolor) #alt is not double-flip\n",
    "        num_bl_moves = [20,24,26,22].index(piece_index)\n",
    "        BL_Move.exec(num_bl_moves)\n",
    "        run_topcross_algorithm(alt)\n",
    "    assert (TopSide.view_side()[7] == topcolor and FrontSide.view_side()[1] == frontcolor), 'topcross solver didnt work' \n",
    "def run_topcross_algorithm(alt=False):\n",
    "    if alt:\n",
    "        RLU_Move.exec(3)\n",
    "        ML_Move.exec(3)\n",
    "        RLU_Move.exec()\n",
    "        ML_Move.exec()\n",
    "    else:\n",
    "        RLU_Move.exec(2)\n",
    "def solve_topcorners():\n",
    "    for i in range(4):\n",
    "        topface = TopSide.view_side()\n",
    "        frontface = FrontSide.view_side()\n",
    "        rightface = RightSide.view_side()\n",
    "        topcolor = topface[4]\n",
    "        frontcolor = frontface[4]\n",
    "        rightcolor = rightface[4]\n",
    "        if (topface[8] != topcolor or frontface[2] != frontcolor or rightface[0] != rightcolor):\n",
    "            piece_index = find_piece([frontcolor,rightcolor,topcolor])\n",
    "            if piece_index in [3,1,7,9]:\n",
    "                on_top = [3,1,7,9].index(piece_index)\n",
    "                RotateRight(4-on_top)\n",
    "                run_topcorners_algorithm(False)\n",
    "                RotateRight(on_top)\n",
    "            piece_index = find_piece([frontcolor,rightcolor,topcolor])\n",
    "            alt = (position[piece_index].faces()[position[piece_index].ori()] == rightcolor) #alt is right face to top\n",
    "            num_bl_moves = [21,27,25,19].index(piece_index)\n",
    "            BL_Move.exec(num_bl_moves)\n",
    "            run_topcorners_algorithm(alt)\n",
    "    topface = TopSide.view_side()\n",
    "    frontface = FrontSide.view_side()\n",
    "    rightface = RightSide.view_side()\n",
    "    assert (topface[8] == topcolor and frontface[2] == frontcolor and rightface[0] == rightcolor), \\\n",
    "            'topcorners solver didnt work' \n",
    "def run_topcorners_algorithm(alt=False):\n",
    "    if alt:\n",
    "        BL_Move.exec(1)\n",
    "        RU_Move.exec(3)\n",
    "        BL_Move.exec(3)\n",
    "        RU_Move.exec(1)\n",
    "    else:\n",
    "        RLU_Move.exec(3)\n",
    "        BL_Move.exec(3)\n",
    "        RLU_Move.exec(1)                  \n",
    "def solve_middle():\n",
    "    frontface = FrontSide.view_side()\n",
    "    rightface = RightSide.view_side()\n",
    "    frontcolor = frontface[4]\n",
    "    rightcolor = rightface[4]\n",
    "    if (frontface[5] != frontcolor or rightface[3] != rightcolor):\n",
    "        piece_index = find_piece([frontcolor,rightcolor]) \n",
    "        if piece_index in [12,10,16,18]:\n",
    "            in_middle = [12,10,16,18].index(piece_index)\n",
    "            RotateRight(4-in_middle)\n",
    "            run_middle_algorithm(False)\n",
    "            RotateRight(in_middle)\n",
    "        piece_index = find_piece([frontcolor,rightcolor]) \n",
    "        alt = (position[piece_index].faces()[position[piece_index].ori()] == rightcolor) #alt is right face to front middle\n",
    "        num_bl_moves = ([20,24,26,22].index(piece_index) - int(alt))\n",
    "        BL_Move.exec(num_bl_moves)\n",
    "        run_middle_algorithm(alt)\n",
    "    frontface = FrontSide.view_side()\n",
    "    rightface = RightSide.view_side()\n",
    "    assert (frontface[5] == frontcolor and rightface[3] == rightcolor), 'middle solver didnt work'+str(alt) \n",
    "def run_middle_algorithm(alt=False):\n",
    "    if alt:\n",
    "        BL_Move.exec(2)\n",
    "        RU_Move.exec(3)\n",
    "        BL_Move.exec(1)\n",
    "        RU_Move.exec(1)\n",
    "        BL_Move.exec(3)\n",
    "        RLU_Move.exec(3)\n",
    "        BL_Move.exec(3)\n",
    "        RLU_Move.exec(1)\n",
    "    else:\n",
    "        BL_Move.exec(2)\n",
    "        RLU_Move.exec(3)\n",
    "        BL_Move.exec(1)\n",
    "        RLU_Move.exec(1)\n",
    "        BL_Move.exec(1)\n",
    "        RU_Move.exec(3)\n",
    "        BL_Move.exec(3)\n",
    "        RU_Move.exec(1)   \n",
    "def solve_bottomcornerswap(): #swap corners\n",
    "    bottomcolor = BottomSide.view_side()[4]\n",
    "    frontcolor = FrontSide.view_side()[4]\n",
    "    backcolor = BackSide.view_side()[4]\n",
    "    rightcolor = RightSide.view_side()[4]\n",
    "    leftcolor = LeftSide.view_side()[4]\n",
    "    corners = [find_piece([frontcolor,bottomcolor,rightcolor]),find_piece([backcolor,bottomcolor,rightcolor]), \\\n",
    "               find_piece([backcolor,bottomcolor,leftcolor]),find_piece([frontcolor,bottomcolor,leftcolor])] #[21,27,25,19]\n",
    "    num_bl_moves =  ([21,27,25,19].index(corners[0]))\n",
    "    BL_Move.exec(num_bl_moves) #first element lines up\n",
    "    corners = [find_piece([frontcolor,bottomcolor,rightcolor]),find_piece([backcolor,bottomcolor,rightcolor]), \\\n",
    "               find_piece([backcolor,bottomcolor,leftcolor]),find_piece([frontcolor,bottomcolor,leftcolor])] #[21,27,25,19]\n",
    "    if (corners[1] == 19):\n",
    "        RotateRight(3)\n",
    "        run_bottomcornerswap_algorithm()\n",
    "        RotateRight(1)\n",
    "        x = corners.index(25)\n",
    "        corners[x],corners[1] = corners[1],corners[x]\n",
    "    if (corners[1] == 25):\n",
    "        RotateRight(2)\n",
    "        run_bottomcornerswap_algorithm()\n",
    "        RotateRight(2)\n",
    "        x = corners.index(27)\n",
    "        corners[x],corners[1] = corners[1],corners[x] #second element lines up\n",
    "    if (corners[2] == 19):\n",
    "        RotateRight(3)\n",
    "        run_bottomcornerswap_algorithm()\n",
    "        RotateRight(1)\n",
    "        x = corners.index(25)\n",
    "        corners[x],corners[2] = corners[2],corners[x] #third element lines up\n",
    "    assert corners == [21,27,25,19], 'something went wrong with my logic, bottomcornerswap' + str(corners)\n",
    "    corners = [find_piece([frontcolor,bottomcolor,rightcolor]),find_piece([backcolor,bottomcolor,rightcolor]), \\\n",
    "               find_piece([backcolor,bottomcolor,leftcolor]),find_piece([frontcolor,bottomcolor,leftcolor])] #[21,27,25,19]\n",
    "    assert corners == [21,27,25,19], 'bottomcornerswap solver not working' + str(corners)\n",
    "def run_bottomcornerswap_algorithm():\n",
    "    RU_Move.exec(3)\n",
    "    BL_Move.exec(1)\n",
    "    RU_Move.exec(1)\n",
    "    RLU_Move.exec(3)\n",
    "    BL_Move.exec(3)\n",
    "    RLU_Move.exec(1)\n",
    "    RU_Move.exec(3)\n",
    "    BL_Move.exec(3)\n",
    "    RU_Move.exec(1)\n",
    "    BL_Move.exec(2)\n",
    "def solve_bottomcornerorient():\n",
    "    bottomcolor = BottomSide.view_side()[4]\n",
    "    frontcolor = FrontSide.view_side()[4]\n",
    "    backcolor = BackSide.view_side()[4]\n",
    "    rightcolor = RightSide.view_side()[4]\n",
    "    leftcolor = LeftSide.view_side()[4]\n",
    "    \n",
    "    corners = [find_piece([frontcolor,bottomcolor,rightcolor]),find_piece([backcolor,bottomcolor,rightcolor]), \\\n",
    "               find_piece([backcolor,bottomcolor,leftcolor]),find_piece([frontcolor,bottomcolor,leftcolor])] #[21,27,25,19]\n",
    "    orients = [(position[i].faces()[position[i].ori()] == bottomcolor) for i in corners]\n",
    "    if orients.count(True) == 4:\n",
    "        return True\n",
    "    while orients.count(True) != 1:\n",
    "        if orients.count(True) > 1:\n",
    "            while ((FrontSide.view_side()[8]) == FrontSide.view_side()[4]):\n",
    "                RotateRight()\n",
    "        run_bottomcornerorient_algorithm()\n",
    "        orients = [(position[i].faces()[position[i].ori()] == bottomcolor) for i in corners]\n",
    "    RotateRight(orients.index(True))\n",
    "    for a in range(2):\n",
    "        if orients.count(True) != 4:    \n",
    "            run_bottomcornerorient_algorithm()\n",
    "            orients = [(position[i].faces()[position[i].ori()] == bottomcolor) for i in corners]\n",
    "    assert(orients.count(True) == 4), 'bottomcornerorient solver not working'\n",
    "def run_bottomcornerorient_algorithm():\n",
    "    RRU_Move.exec(3)\n",
    "    BL_Move.exec(1)\n",
    "    RRU_Move.exec(1)\n",
    "    BL_Move.exec(1) \n",
    "    RRU_Move.exec(3)\n",
    "    BL_Move.exec(2)\n",
    "    RRU_Move.exec(1)\n",
    "    BL_Move.exec(2)\n",
    "def solve_bottomcross():\n",
    "    bottomface = BottomSide.view_side()\n",
    "    frontface = FrontSide.view_side()\n",
    "    backface = BackSide.view_side()\n",
    "    rightface = RightSide.view_side()\n",
    "    leftface = LeftSide.view_side()\n",
    "    bottomcolor = bottomface[4]\n",
    "    frontcolor = frontface[4]\n",
    "    backcolor = backface[4]\n",
    "    rightcolor = rightface[4]\n",
    "    leftcolor = leftface[4]\n",
    "    num_done = int(frontface.count(frontcolor) == len(frontface)) + \\\n",
    "                int(backface.count(backcolor) == len(backface)) + \\\n",
    "                int(rightface.count(rightcolor) == len(rightface)) + \\\n",
    "                int(leftface.count(leftcolor) == len(leftface))\n",
    "    cross = [find_piece([frontcolor,bottomcolor]),find_piece([bottomcolor,rightcolor]), \\\n",
    "           find_piece([backcolor,bottomcolor]),find_piece([bottomcolor,leftcolor])] #[20,24,26,22]\n",
    "    orients = [(position[i].faces()[position[i].ori()] == bottomcolor) for i in cross]\n",
    "    if num_done == 4:\n",
    "        return True #done!\n",
    "    if num_done == 0:     #beginning of stage\n",
    "        if (cross[0] == 24 and not orients[0]) or (cross[0] == 26 and orients[0]):\n",
    "            RotateRight(3)\n",
    "        elif (cross[1] == 26 and not orients[1]) or (cross[1] == 22 and orients[1]):\n",
    "            pass\n",
    "        elif (cross[2] == 22 and not orients[2]) or (cross[2] == 20 and orients[2]):\n",
    "            RotateRight(1)\n",
    "        elif (cross[3] == 20 and not orients[3]) or (cross[3] == 24 and orients[3]):\n",
    "            RotateRight(2)\n",
    "        else:\n",
    "            if (cross[0] == 26):\n",
    "                pass\n",
    "            elif (cross[1] == 22):\n",
    "                RotateRight(1)\n",
    "            elif (cross[2] == 20):\n",
    "                RotateRight(2)\n",
    "            elif (cross[3] == 24):\n",
    "                RotateRight(3)\n",
    "            RotateDown()\n",
    "            RLU_Move.exec(3)\n",
    "            ML_Move.exec(3)\n",
    "            RLU_Move.exec(1)\n",
    "            ML_Move.exec(1)\n",
    "            RotateDown(3)\n",
    "            return False #needs middle swap\n",
    "#             assert False, 'some logic error solvebottomcross:' + str(num_done)+str(orients)+str(cross)\n",
    "    else:\n",
    "        while (FrontSide.view_side().count(FrontSide.view_side()[0]) != 9):\n",
    "            RotateRight()\n",
    "        if num_done == 1 and orients.count(True) != 4:\n",
    "            return False\n",
    "    run_bottomcross_algorithm()\n",
    "    solve_bottomcross()\n",
    "    \n",
    "def run_bottomcross_algorithm():\n",
    "    LU_Move.exec()\n",
    "    RU_Move.exec()\n",
    "    RLU_Move.exec()\n",
    "    LU_Move.exec(3)\n",
    "    RU_Move.exec(3)\n",
    "    BL_Move.exec(2)\n",
    "    LU_Move.exec()\n",
    "    RU_Move.exec()\n",
    "    RLU_Move.exec()\n",
    "    LU_Move.exec(3)\n",
    "    RU_Move.exec(3)"
   ]
  },
  {
   "cell_type": "markdown",
   "metadata": {},
   "source": [
    "#Now let's play!"
   ]
  },
  {
   "cell_type": "code",
   "execution_count": 168,
   "metadata": {
    "collapsed": false
   },
   "outputs": [
    {
     "data": {
      "image/png": "[encoded data removed]",
      "text/plain": [
       "<matplotlib.figure.Figure at 0x9771128>"
      ]
     },
     "metadata": {},
     "output_type": "display_data"
    },
    {
     "data": {
      "image/png": "[encoded data removed]",
      "text/plain": [
       "<matplotlib.figure.Figure at 0x9414198>"
      ]
     },
     "metadata": {},
     "output_type": "display_data"
    },
    {
     "data": {
      "image/png": "[encoded data removed]",
      "text/plain": [
       "<matplotlib.figure.Figure at 0x9227f98>"
      ]
     },
     "metadata": {},
     "output_type": "display_data"
    },
    {
     "data": {
      "image/png": "[encoded data removed]",
      "text/plain": [
       "<matplotlib.figure.Figure at 0x78bcef0>"
      ]
     },
     "metadata": {},
     "output_type": "display_data"
    },
    {
     "data": {
      "image/png": "[encoded data removed]",
      "text/plain": [
       "<matplotlib.figure.Figure at 0x986c128>"
      ]
     },
     "metadata": {},
     "output_type": "display_data"
    },
    {
     "data": {
      "image/png": "[encoded data removed]",
      "text/plain": [
       "<matplotlib.figure.Figure at 0x93a4a20>"
      ]
     },
     "metadata": {},
     "output_type": "display_data"
    }
   ],
   "source": [
    "position=reset_cube()\n",
    "RMU_Move.exec()\n",
    "ML_Move.exec()\n",
    "RMU_Move.exec(3)\n",
    "ML_Move.exec(3)\n",
    "view_cube()"
   ]
  },
  {
   "cell_type": "code",
   "execution_count": 169,
   "metadata": {
    "collapsed": false
   },
   "outputs": [
    {
     "data": {
      "image/png": "[encoded data removed]",
      "text/plain": [
       "<matplotlib.figure.Figure at 0x925e6d8>"
      ]
     },
     "metadata": {},
     "output_type": "display_data"
    },
    {
     "data": {
      "image/png": "[encoded data removed]",
      "text/plain": [
       "<matplotlib.figure.Figure at 0x946c550>"
      ]
     },
     "metadata": {},
     "output_type": "display_data"
    },
    {
     "data": {
      "image/png": "[encoded data removed]",
      "text/plain": [
       "<matplotlib.figure.Figure at 0x974e5c0>"
      ]
     },
     "metadata": {},
     "output_type": "display_data"
    },
    {
     "data": {
      "image/png": "[encoded data removed]",
      "text/plain": [
       "<matplotlib.figure.Figure at 0x972a518>"
      ]
     },
     "metadata": {},
     "output_type": "display_data"
    },
    {
     "data": {
      "image/png": "[encoded data removed]",
      "text/plain": [
       "<matplotlib.figure.Figure at 0x78582b0>"
      ]
     },
     "metadata": {},
     "output_type": "display_data"
    },
    {
     "data": {
      "image/png": "[encoded data removed]",
      "text/plain": [
       "<matplotlib.figure.Figure at 0x92f9978>"
      ]
     },
     "metadata": {},
     "output_type": "display_data"
    }
   ],
   "source": [
    "position=reset_cube()\n",
    "mixup(1000)\n",
    "view_cube()"
   ]
  },
  {
   "cell_type": "code",
   "execution_count": 171,
   "metadata": {
    "collapsed": false
   },
   "outputs": [
    {
     "name": "stdout",
     "output_type": "stream",
     "text": [
      "Solved!\n",
      "Wall time: 0 ns\n"
     ]
    },
    {
     "data": {
      "image/png": "[encoded data removed]",
      "text/plain": [
       "<matplotlib.figure.Figure at 0x931e6a0>"
      ]
     },
     "metadata": {},
     "output_type": "display_data"
    },
    {
     "data": {
      "image/png": "[encoded data removed]",
      "text/plain": [
       "<matplotlib.figure.Figure at 0x7584eb8>"
      ]
     },
     "metadata": {},
     "output_type": "display_data"
    },
    {
     "data": {
      "image/png": "[encoded data removed]",
      "text/plain": [
       "<matplotlib.figure.Figure at 0x93037b8>"
      ]
     },
     "metadata": {},
     "output_type": "display_data"
    },
    {
     "data": {
      "image/png": "[encoded data removed]",
      "text/plain": [
       "<matplotlib.figure.Figure at 0x94b6b00>"
      ]
     },
     "metadata": {},
     "output_type": "display_data"
    },
    {
     "data": {
      "image/png": "[encoded data removed]",
      "text/plain": [
       "<matplotlib.figure.Figure at 0x92b1c50>"
      ]
     },
     "metadata": {},
     "output_type": "display_data"
    },
    {
     "data": {
      "image/png": "[encoded data removed]",
      "text/plain": [
       "<matplotlib.figure.Figure at 0x99232e8>"
      ]
     },
     "metadata": {},
     "output_type": "display_data"
    }
   ],
   "source": [
    "%time solve() #magic %time command to time the function\n",
    "view_cube()"
   ]
  }
 ],
 "metadata": {
  "kernelspec": {
   "display_name": "Python 3",
   "language": "python",
   "name": "python3"
  }
 },
 "nbformat": 4,
 "nbformat_minor": 0
}
