{
 "cells": [
  {
   "cell_type": "markdown",
   "metadata": {},
   "source": [
    "# Rubik's Cube"
   ]
  },
  {
   "cell_type": "markdown",
   "metadata": {},
   "source": [
    "## Making the cube"
   ]
  },
  {
   "cell_type": "markdown",
   "metadata": {},
   "source": [
    "First, we'll define the Faces and Pieces."
   ]
  },
  {
   "cell_type": "code",
   "execution_count": 1,
   "metadata": {},
   "outputs": [],
   "source": [
    "%matplotlib inline\n",
    "from matplotlib.colors import ListedColormap,BoundaryNorm\n",
    "import numpy as np\n",
    "import matplotlib.pyplot as plt\n",
    "class Face:\n",
    "    RED = 0#'RED'\n",
    "    BLUE = 1#'BLUE'\n",
    "    WHITE = 2#'WHITE'\n",
    "    ORANGE = 3#'ORANGE'\n",
    "    GREEN = 4#'GREEN'\n",
    "    YELLOW = 5#'YELLOW'\n",
    "class Piece:\n",
    "    mod = 1\n",
    "    def __init__(self, faces):\n",
    "        self.f = faces\n",
    "        self.o = 0\n",
    "    def add_orient(self, num):\n",
    "        self.o = (self.o + num) % self.mod\n",
    "    def ori(self):\n",
    "        return self.o\n",
    "    def faces(self):\n",
    "        return self.f\n",
    "class Corner(Piece):\n",
    "    mod = 3\n",
    "class Edge(Piece):\n",
    "    mod = 2\n",
    "class Middle(Piece):\n",
    "    mod = 1\n",
    "    \n",
    "position = []\n",
    "def reset_cube():\n",
    "    try:\n",
    "        Move.count = 0\n",
    "    except:\n",
    "        pass\n",
    "    position = [Piece([])]\n",
    "    position.append(Corner([Face.RED, Face.BLUE, Face.YELLOW]))\n",
    "    position.append(Edge([Face.RED, Face.BLUE]))\n",
    "    position.append(Corner([Face.RED, Face.WHITE, Face.BLUE]))\n",
    "    position.append(Edge([Face.RED, Face.YELLOW]))\n",
    "    position.append(Middle([Face.RED]))\n",
    "    position.append(Edge([Face.RED, Face.WHITE]))\n",
    "    position.append(Corner([Face.RED, Face.YELLOW, Face.GREEN]))\n",
    "    position.append(Edge([Face.RED, Face.GREEN]))\n",
    "    position.append(Corner([Face.RED, Face.GREEN, Face.WHITE]))\n",
    "    position.append(Edge([Face.BLUE, Face.YELLOW]))\n",
    "    position.append(Middle([Face.BLUE]))\n",
    "    position.append(Edge([Face.BLUE, Face.WHITE]))\n",
    "    position.append(Middle([Face.YELLOW]))\n",
    "    position.append(Piece([]))\n",
    "    position.append(Middle([Face.WHITE]))\n",
    "    position.append(Edge([Face.GREEN, Face.YELLOW]))\n",
    "    position.append(Middle([Face.GREEN]))\n",
    "    position.append(Edge([Face.GREEN, Face.WHITE]))\n",
    "    position.append(Corner([Face.ORANGE, Face.YELLOW, Face.BLUE]))\n",
    "    position.append(Edge([Face.ORANGE, Face.BLUE]))\n",
    "    position.append(Corner([Face.ORANGE, Face.BLUE, Face.WHITE]))\n",
    "    position.append(Edge([Face.ORANGE, Face.YELLOW]))\n",
    "    position.append(Middle([Face.ORANGE]))\n",
    "    position.append(Edge([Face.ORANGE, Face.WHITE]))\n",
    "    position.append(Corner([Face.ORANGE, Face.GREEN, Face.YELLOW]))\n",
    "    position.append(Edge([Face.ORANGE, Face.GREEN]))\n",
    "    position.append(Corner([Face.ORANGE, Face.WHITE, Face.GREEN]))\n",
    "    return position\n",
    "position = reset_cube()"
   ]
  },
  {
   "cell_type": "markdown",
   "metadata": {},
   "source": [
    "Next up, the different Sides and how they interact with Pieces."
   ]
  },
  {
   "cell_type": "code",
   "execution_count": 2,
   "metadata": {},
   "outputs": [],
   "source": [
    "class Side:\n",
    "    pieces = []\n",
    "    side = []\n",
    "    cmap = ListedColormap(['red', 'blue', 'white', 'orange', 'green', 'yellow'])\n",
    "    norm = BoundaryNorm([0,1,2,3,4,5,6], cmap.N)\n",
    "    fig_num = 0\n",
    "    @classmethod\n",
    "    def view_side(self):\n",
    "        output = []\n",
    "        for i in range(len(self.pieces)):\n",
    "            x = position[self.pieces[i]]\n",
    "            output.append(x.faces()[(x.ori() + self.side[i]) % x.mod])\n",
    "        return output\n",
    "    @classmethod\n",
    "    def viz(self):\n",
    "        Side.fig_num+=1\n",
    "        fig = plt.figure(Side.fig_num)\n",
    "        plt.title(self.__name__)\n",
    "        plt.xticks([-0.5,0.5,1.5,2.5], ['','','','']);\n",
    "        plt.yticks([-0.5,0.5,1.5,2.5], ['','','','']);\n",
    "        plt.imshow(np.reshape(self.view_side(), (3,3)),origin='upper',interpolation='nearest',cmap=self.cmap, norm=self.norm)\n",
    "        plt.grid(which='major',color='black', linestyle='-', linewidth=2)\n",
    "class TopSide(Side):\n",
    "    pieces = [7,8,9,4,5,6,1,2,3]\n",
    "    side = [0,0,0,0,0,0,0,0,0]\n",
    "class BottomSide(Side):\n",
    "    pieces = [19,20,21,22,23,24,25,26,27]\n",
    "    side = [0,0,0,0,0,0,0,0,0]\n",
    "class FrontSide(Side):\n",
    "    pieces = [1,2,3,10,11,12,19,20,21]\n",
    "    side = [1,1,2,0,0,0,2,1,1]\n",
    "class BackSide(Side):\n",
    "    pieces = [9,8,7,18,17,16,27,26,25]\n",
    "    side = [1,1,2,0,0,0,2,1,1]\n",
    "class LeftSide(Side):\n",
    "    pieces = [7,4,1,16,13,10,25,22,19]\n",
    "    side = [1,1,2,1,0,1,2,1,1]\n",
    "class RightSide(Side):\n",
    "    pieces = [3,6,9,12,15,18,21,24,27]\n",
    "    side = [1,1,2,1,0,1,2,1,1]\n",
    "\n",
    "def view_cube():\n",
    "    TopSide.viz()\n",
    "    FrontSide.viz()\n",
    "    RightSide.viz()\n",
    "    BackSide.viz()\n",
    "    LeftSide.viz()\n",
    "    BottomSide.viz()\n",
    "def validate():\n",
    "    a = TopSide.view_side()\n",
    "    b = FrontSide.view_side()\n",
    "    c = RightSide.view_side()\n",
    "    d = BackSide.view_side()\n",
    "    e = LeftSide.view_side()\n",
    "    f = BottomSide.view_side()\n",
    "    return a.count(a[0]) == len(a) and b.count(b[0]) == len(b) and c.count(c[0]) == len(c) \\\n",
    "            and d.count(d[0]) == len(d) and e.count(e[0]) == len(e) and f.count(f[0]) == len(f)"
   ]
  },
  {
   "cell_type": "markdown",
   "metadata": {},
   "source": [
    "Then, we define the Moves of a Rubik's Cube."
   ]
  },
  {
   "cell_type": "code",
   "execution_count": 3,
   "metadata": {},
   "outputs": [],
   "source": [
    "class Move:\n",
    "    pos_list = [0,0,0,0,0,0,0,0]\n",
    "    orient_adjust = [0,0,0,0,0,0,0,0]\n",
    "    count = 0\n",
    "    @classmethod\n",
    "    def run(self, num=1):\n",
    "        for i in range(num%4):\n",
    "            self.reorient()\n",
    "            self.swap()\n",
    "            Move.count += 1\n",
    "    @classmethod\n",
    "    def reorient(self):\n",
    "        for i in range(len(self.pos_list)):\n",
    "            position[self.pos_list[i]].add_orient(self.orient_adjust[i])\n",
    "    @classmethod\n",
    "    def swap(self):\n",
    "        a6 = position[self.pos_list[6]]\n",
    "        a7 = position[self.pos_list[7]]\n",
    "        for i in range(len(self.pos_list)-2):\n",
    "            position[self.pos_list[7-i]] = position[self.pos_list[5-i]]\n",
    "        position[self.pos_list[0]] = a6\n",
    "        position[self.pos_list[1]] = a7\n",
    "class LU_Move(Move):\n",
    "    pos_list = [1,4,7,16,25,22,19,10]\n",
    "    orient_adjust = [1,0,-1,0,1,0,-1,0]\n",
    "class MU_Move(Move):\n",
    "    pos_list = [2,5,8,17,26,23,20,11]\n",
    "    orient_adjust = [1,0,1,0,1,0,1,0]\n",
    "class RU_Move(Move):\n",
    "    pos_list = [3,6,9,18,27,24,21,12]\n",
    "    orient_adjust = [-1,0,1,0,-1,0,1,0]\n",
    "class TL_Move(Move):\n",
    "    pos_list = [1,4,7,8,9,6,3,2]\n",
    "    orient_adjust = [0,0,0,0,0,0,0,0]\n",
    "class ML_Move(Move):\n",
    "    pos_list = [10,13,16,17,18,15,12,11]\n",
    "    orient_adjust = [1,0,1,0,1,0,1,0]\n",
    "class BL_Move(Move):\n",
    "    pos_list = [19,22,25,26,27,24,21,20]\n",
    "    orient_adjust = [0,0,0,0,0,0,0,0]\n",
    "class RLU_Move(Move):\n",
    "    pos_list = [1,10,19,20,21,12,3,2]\n",
    "    orient_adjust = [-1,1,1,1,-1,1,1,1]\n",
    "class RMU_Move(Move):\n",
    "    pos_list = [4,13,22,23,24,15,6,5]\n",
    "    orient_adjust = [1,0,1,0,1,0,1,0]\n",
    "class RRU_Move(Move):\n",
    "    pos_list = [7,16,25,26,27,18,9,8]\n",
    "    orient_adjust = [1,1,-1,1,1,1,-1,1]\n",
    "def RotateDown(num=1):\n",
    "    for i in range(num%4):\n",
    "        LU_Move.run();MU_Move.run();RU_Move.run()\n",
    "def RotateRight(num=1):\n",
    "    for i in range(num%4):\n",
    "        TL_Move.run();ML_Move.run();BL_Move.run()\n",
    "def RotateCC(num=1): #counter-clockwise\n",
    "    for i in range(num%4):\n",
    "        RLU_Move.run();RMU_Move.run();RRU_Move.run()\n",
    "\n",
    "def mixup(n=100):\n",
    "    moves = [LU_Move,MU_Move,RU_Move,TL_Move,ML_Move,BL_Move,RLU_Move,RMU_Move,RRU_Move]\n",
    "    for i in range(n):\n",
    "        moves[np.random.randint(9)].run()"
   ]
  },
  {
   "cell_type": "markdown",
   "metadata": {},
   "source": [
    "# Now let's play!"
   ]
  },
  {
   "cell_type": "markdown",
   "metadata": {},
   "source": [
    "## Viewing the Cube"
   ]
  },
  {
   "cell_type": "markdown",
   "metadata": {},
   "source": [
    "You can play with the cube by executing moves, and view it by running ```view_cube()```."
   ]
  },
  {
   "cell_type": "code",
   "execution_count": 4,
   "metadata": {
    "scrolled": true
   },
   "outputs": [
    {
     "data": {
      "image/png": "[encoded data removed]",
      "text/plain": [
       "<Figure size 432x288 with 1 Axes>"
      ]
     },
     "metadata": {
      "needs_background": "light"
     },
     "output_type": "display_data"
    },
    {
     "data": {
      "image/png": "[encoded data removed]",
      "text/plain": [
       "<Figure size 432x288 with 1 Axes>"
      ]
     },
     "metadata": {
      "needs_background": "light"
     },
     "output_type": "display_data"
    },
    {
     "data": {
      "image/png": "[encoded data removed]",
      "text/plain": [
       "<Figure size 432x288 with 1 Axes>"
      ]
     },
     "metadata": {
      "needs_background": "light"
     },
     "output_type": "display_data"
    },
    {
     "data": {
      "image/png": "[encoded data removed]",
      "text/plain": [
       "<Figure size 432x288 with 1 Axes>"
      ]
     },
     "metadata": {
      "needs_background": "light"
     },
     "output_type": "display_data"
    },
    {
     "data": {
      "image/png": "[encoded data removed]",
      "text/plain": [
       "<Figure size 432x288 with 1 Axes>"
      ]
     },
     "metadata": {
      "needs_background": "light"
     },
     "output_type": "display_data"
    },
    {
     "data": {
      "image/png": "[encoded data removed]",
      "text/plain": [
       "<Figure size 432x288 with 1 Axes>"
      ]
     },
     "metadata": {
      "needs_background": "light"
     },
     "output_type": "display_data"
    }
   ],
   "source": [
    "position=reset_cube()\n",
    "view_cube()\n"
   ]
  },
  {
   "cell_type": "code",
   "execution_count": 5,
   "metadata": {
    "scrolled": true
   },
   "outputs": [
    {
     "data": {
      "image/png": "[encoded data removed]",
      "text/plain": [
       "<Figure size 432x288 with 1 Axes>"
      ]
     },
     "metadata": {
      "needs_background": "light"
     },
     "output_type": "display_data"
    },
    {
     "data": {
      "image/png": "[encoded data removed]",
      "text/plain": [
       "<Figure size 432x288 with 1 Axes>"
      ]
     },
     "metadata": {
      "needs_background": "light"
     },
     "output_type": "display_data"
    },
    {
     "data": {
      "image/png": "[encoded data removed]",
      "text/plain": [
       "<Figure size 432x288 with 1 Axes>"
      ]
     },
     "metadata": {
      "needs_background": "light"
     },
     "output_type": "display_data"
    },
    {
     "data": {
      "image/png": "[encoded data removed]",
      "text/plain": [
       "<Figure size 432x288 with 1 Axes>"
      ]
     },
     "metadata": {
      "needs_background": "light"
     },
     "output_type": "display_data"
    },
    {
     "data": {
      "image/png": "[encoded data removed]",
      "text/plain": [
       "<Figure size 432x288 with 1 Axes>"
      ]
     },
     "metadata": {
      "needs_background": "light"
     },
     "output_type": "display_data"
    },
    {
     "data": {
      "image/png": "[encoded data removed]",
      "text/plain": [
       "<Figure size 432x288 with 1 Axes>"
      ]
     },
     "metadata": {
      "needs_background": "light"
     },
     "output_type": "display_data"
    }
   ],
   "source": [
    "RU_Move.run(2)\n",
    "view_cube()"
   ]
  },
  {
   "cell_type": "markdown",
   "metadata": {},
   "source": [
    "## Mixing up the Cube \n",
    "```mixup(n)``` runs _n_ random moves on the cube. It's like mixing the cube up!"
   ]
  },
  {
   "cell_type": "code",
   "execution_count": 6,
   "metadata": {
    "scrolled": true
   },
   "outputs": [
    {
     "data": {
      "image/png": "[encoded data removed]",
      "text/plain": [
       "<Figure size 432x288 with 1 Axes>"
      ]
     },
     "metadata": {
      "needs_background": "light"
     },
     "output_type": "display_data"
    },
    {
     "data": {
      "image/png": "[encoded data removed]",
      "text/plain": [
       "<Figure size 432x288 with 1 Axes>"
      ]
     },
     "metadata": {
      "needs_background": "light"
     },
     "output_type": "display_data"
    },
    {
     "data": {
      "image/png": "[encoded data removed]",
      "text/plain": [
       "<Figure size 432x288 with 1 Axes>"
      ]
     },
     "metadata": {
      "needs_background": "light"
     },
     "output_type": "display_data"
    },
    {
     "data": {
      "image/png": "[encoded data removed]",
      "text/plain": [
       "<Figure size 432x288 with 1 Axes>"
      ]
     },
     "metadata": {
      "needs_background": "light"
     },
     "output_type": "display_data"
    },
    {
     "data": {
      "image/png": "[encoded data removed]",
      "text/plain": [
       "<Figure size 432x288 with 1 Axes>"
      ]
     },
     "metadata": {
      "needs_background": "light"
     },
     "output_type": "display_data"
    },
    {
     "data": {
      "image/png": "[encoded data removed]",
      "text/plain": [
       "<Figure size 432x288 with 1 Axes>"
      ]
     },
     "metadata": {
      "needs_background": "light"
     },
     "output_type": "display_data"
    }
   ],
   "source": [
    "position=reset_cube()\n",
    "mixup(100)\n",
    "view_cube()"
   ]
  },
  {
   "cell_type": "markdown",
   "metadata": {},
   "source": [
    "## Try your own"
   ]
  },
  {
   "cell_type": "markdown",
   "metadata": {},
   "source": [
    "Now you try! Have fun :)"
   ]
  },
  {
   "cell_type": "code",
   "execution_count": 7,
   "metadata": {
    "scrolled": true
   },
   "outputs": [
    {
     "data": {
      "image/png": "[encoded data removed]",
      "text/plain": [
       "<Figure size 432x288 with 1 Axes>"
      ]
     },
     "metadata": {
      "needs_background": "light"
     },
     "output_type": "display_data"
    },
    {
     "data": {
      "image/png": "[encoded data removed]",
      "text/plain": [
       "<Figure size 432x288 with 1 Axes>"
      ]
     },
     "metadata": {
      "needs_background": "light"
     },
     "output_type": "display_data"
    },
    {
     "data": {
      "image/png": "[encoded data removed]",
      "text/plain": [
       "<Figure size 432x288 with 1 Axes>"
      ]
     },
     "metadata": {
      "needs_background": "light"
     },
     "output_type": "display_data"
    },
    {
     "data": {
      "image/png": "[encoded data removed]",
      "text/plain": [
       "<Figure size 432x288 with 1 Axes>"
      ]
     },
     "metadata": {
      "needs_background": "light"
     },
     "output_type": "display_data"
    },
    {
     "data": {
      "image/png": "[encoded data removed]",
      "text/plain": [
       "<Figure size 432x288 with 1 Axes>"
      ]
     },
     "metadata": {
      "needs_background": "light"
     },
     "output_type": "display_data"
    },
    {
     "data": {
      "image/png": "[encoded data removed]",
      "text/plain": [
       "<Figure size 432x288 with 1 Axes>"
      ]
     },
     "metadata": {
      "needs_background": "light"
     },
     "output_type": "display_data"
    }
   ],
   "source": [
    "position = reset_cube()\n",
    "MU_Move.run(2)\n",
    "ML_Move.run(2)\n",
    "RMU_Move.run(2)\n",
    "view_cube()"
   ]
  },
  {
   "cell_type": "code",
   "execution_count": null,
   "metadata": {},
   "outputs": [],
   "source": []
  }
 ],
 "metadata": {
  "kernelspec": {
   "display_name": "Python 3 (ipykernel)",
   "language": "python",
   "name": "python3"
  },
  "language_info": {
   "codemirror_mode": {
    "name": "ipython",
    "version": 3
   },
   "file_extension": ".py",
   "mimetype": "text/x-python",
   "name": "python",
   "nbconvert_exporter": "python",
   "pygments_lexer": "ipython3",
   "version": "3.9.13"
  }
 },
 "nbformat": 4,
 "nbformat_minor": 1
}
